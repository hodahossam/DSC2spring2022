{
 "cells": [
  {
   "cell_type": "markdown",
   "id": "686f9472",
   "metadata": {},
   "source": [
    "my first notebook"
   ]
  },
  {
   "cell_type": "code",
   "execution_count": 1,
   "id": "d720ebc6",
   "metadata": {},
   "outputs": [],
   "source": [
    "import numpy as np"
   ]
  },
  {
   "cell_type": "code",
   "execution_count": 3,
   "id": "fcc9f4ca",
   "metadata": {},
   "outputs": [],
   "source": [
    "x=np.random.random(10)"
   ]
  },
  {
   "cell_type": "code",
   "execution_count": 4,
   "id": "08b09ae5",
   "metadata": {},
   "outputs": [
    {
     "data": {
      "text/plain": [
       "array([0.09950644, 0.85463811, 0.59148822, 0.87799916, 0.19425367,\n",
       "       0.14794933, 0.6027919 , 0.84751127, 0.90084469, 0.69337321])"
      ]
     },
     "execution_count": 4,
     "metadata": {},
     "output_type": "execute_result"
    }
   ],
   "source": [
    "x"
   ]
  },
  {
   "cell_type": "code",
   "execution_count": null,
   "id": "0ad3bf85",
   "metadata": {},
   "outputs": [],
   "source": []
  }
 ],
 "metadata": {
  "kernelspec": {
   "display_name": "Python 3 (ipykernel)",
   "language": "python",
   "name": "python3"
  },
  "language_info": {
   "codemirror_mode": {
    "name": "ipython",
    "version": 3
   },
   "file_extension": ".py",
   "mimetype": "text/x-python",
   "name": "python",
   "nbconvert_exporter": "python",
   "pygments_lexer": "ipython3",
   "version": "3.9.7"
  }
 },
 "nbformat": 4,
 "nbformat_minor": 5
}
